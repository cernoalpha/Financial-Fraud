{
  "nbformat": 4,
  "nbformat_minor": 0,
  "metadata": {
    "colab": {
      "provenance": []
    },
    "kernelspec": {
      "name": "python3",
      "display_name": "Python 3"
    },
    "language_info": {
      "name": "python"
    }
  },
  "cells": [
    {
      "cell_type": "code",
      "execution_count": 1,
      "metadata": {
        "colab": {
          "base_uri": "https://localhost:8080/"
        },
        "id": "vqDDzRdEifTK",
        "outputId": "be4a0b35-a3de-407c-eff7-bafd56bbb2cd"
      },
      "outputs": [
        {
          "output_type": "stream",
          "name": "stdout",
          "text": [
            "Collecting pyspark\n",
            "  Downloading pyspark-3.5.1.tar.gz (317.0 MB)\n",
            "\u001b[2K     \u001b[90m━━━━━━━━━━━━━━━━━━━━━━━━━━━━━━━━━━━━━━━━\u001b[0m \u001b[32m317.0/317.0 MB\u001b[0m \u001b[31m3.9 MB/s\u001b[0m eta \u001b[36m0:00:00\u001b[0m\n",
            "\u001b[?25h  Preparing metadata (setup.py) ... \u001b[?25l\u001b[?25hdone\n",
            "Requirement already satisfied: py4j==0.10.9.7 in /usr/local/lib/python3.10/dist-packages (from pyspark) (0.10.9.7)\n",
            "Building wheels for collected packages: pyspark\n",
            "  Building wheel for pyspark (setup.py) ... \u001b[?25l\u001b[?25hdone\n",
            "  Created wheel for pyspark: filename=pyspark-3.5.1-py2.py3-none-any.whl size=317488491 sha256=55ac79a81d6bece1f5f9cc88487323f85dd53b10eb5fbed54210e39d6bfdd12c\n",
            "  Stored in directory: /root/.cache/pip/wheels/80/1d/60/2c256ed38dddce2fdd93be545214a63e02fbd8d74fb0b7f3a6\n",
            "Successfully built pyspark\n",
            "Installing collected packages: pyspark\n",
            "Successfully installed pyspark-3.5.1\n"
          ]
        }
      ],
      "source": [
        "!pip install pyspark"
      ]
    },
    {
      "cell_type": "code",
      "source": [
        "from pyspark.sql import SparkSession\n",
        "from pyspark.sql.functions import col\n",
        "from pyspark.ml.feature import StringIndexer, VectorAssembler\n",
        "from pyspark.ml.classification import LogisticRegression\n",
        "from pyspark.ml.evaluation import BinaryClassificationEvaluator"
      ],
      "metadata": {
        "id": "y3ll6OIoilZn"
      },
      "execution_count": 1,
      "outputs": []
    },
    {
      "cell_type": "markdown",
      "source": [
        "# Step 1: Initialize Spark Session"
      ],
      "metadata": {
        "id": "n0xkRqBDi3bY"
      }
    },
    {
      "cell_type": "code",
      "source": [
        "spark = SparkSession.builder \\\n",
        "    .appName(\"FinancialFraudDetection\") \\\n",
        "    .config(\"spark.driver.memory\", \"4g\") \\\n",
        "    .config(\"spark.executor.memory\", \"4g\") \\\n",
        "    .config(\"spark.kryoserializer.buffer.max\", \"2047mb\") \\\n",
        "    .getOrCreate()"
      ],
      "metadata": {
        "id": "i-UUITxwi1Si"
      },
      "execution_count": 2,
      "outputs": []
    },
    {
      "cell_type": "markdown",
      "source": [
        "# Step 2: Load Data\n"
      ],
      "metadata": {
        "id": "_I0ow5xZi7Kd"
      }
    },
    {
      "cell_type": "code",
      "source": [
        "file_path = \"/content/drive/MyDrive/PS_20174392719_1491204439457_log.csv\"\n",
        "data = spark.read.option(\"header\", \"true\").option(\"inferSchema\", \"true\").csv(file_path)\n"
      ],
      "metadata": {
        "id": "4BMnInk6i5nC"
      },
      "execution_count": 3,
      "outputs": []
    },
    {
      "cell_type": "markdown",
      "source": [
        "# Sample a subset of the data for initial testing"
      ],
      "metadata": {
        "id": "CLUSvzNtmrk3"
      }
    },
    {
      "cell_type": "code",
      "source": [
        "data_sample = data.sample(False, 0.1, seed=42)"
      ],
      "metadata": {
        "id": "bvfsQLB7moRM"
      },
      "execution_count": 4,
      "outputs": []
    },
    {
      "cell_type": "markdown",
      "source": [
        "# Step 3: Preprocess Data\n",
        "# Convert categorical columns to numerical"
      ],
      "metadata": {
        "id": "a7NXM8nBjI0L"
      }
    },
    {
      "cell_type": "code",
      "source": [
        "indexers = [\n",
        "    StringIndexer(inputCol=\"type\", outputCol=\"typeIndex\"),\n",
        "    StringIndexer(inputCol=\"nameOrig\", outputCol=\"nameOrigIndex\"),\n",
        "    StringIndexer(inputCol=\"nameDest\", outputCol=\"nameDestIndex\")\n",
        "]\n",
        "\n",
        "for indexer in indexers:\n",
        "    data_sample = indexer.fit(data_sample).transform(data_sample)"
      ],
      "metadata": {
        "id": "P_e1JxxHjF-R"
      },
      "execution_count": 5,
      "outputs": []
    },
    {
      "cell_type": "markdown",
      "source": [
        "# Assemble features into a single vector"
      ],
      "metadata": {
        "id": "IVXbsztwjT9_"
      }
    },
    {
      "cell_type": "code",
      "source": [
        "feature_columns = [\"step\", \"typeIndex\", \"amount\", \"nameOrigIndex\", \"oldbalanceOrg\", \"newbalanceOrig\", \"nameDestIndex\", \"oldbalanceDest\", \"newbalanceDest\"]\n",
        "assembler = VectorAssembler(inputCols=feature_columns, outputCol=\"features\")\n",
        "data_sample = assembler.transform(data_sample)"
      ],
      "metadata": {
        "id": "UpWfNt18jScC"
      },
      "execution_count": 6,
      "outputs": []
    },
    {
      "cell_type": "markdown",
      "source": [
        "# Select the features and label"
      ],
      "metadata": {
        "id": "WH15TLzejWft"
      }
    },
    {
      "cell_type": "code",
      "source": [
        "data_sample = data_sample.select(\"features\", \"isFraud\")"
      ],
      "metadata": {
        "id": "gUgNpI-MjY-D"
      },
      "execution_count": 7,
      "outputs": []
    },
    {
      "cell_type": "markdown",
      "source": [
        "# Step 4: Split the Data"
      ],
      "metadata": {
        "id": "3gDh71umkcwv"
      }
    },
    {
      "cell_type": "code",
      "source": [
        "train_data, test_data = data_sample.randomSplit([0.8, 0.2], seed=42)"
      ],
      "metadata": {
        "id": "eE5fDf8Mkdqx"
      },
      "execution_count": 8,
      "outputs": []
    },
    {
      "cell_type": "markdown",
      "source": [
        "# Step 5: Train the Model"
      ],
      "metadata": {
        "id": "_nkinMwTkfcQ"
      }
    },
    {
      "cell_type": "code",
      "source": [
        "lr = LogisticRegression(labelCol=\"isFraud\", featuresCol=\"features\", maxIter=10)\n",
        "lr_model = lr.fit(train_data)"
      ],
      "metadata": {
        "id": "xiJ47itgkhbK"
      },
      "execution_count": 9,
      "outputs": []
    },
    {
      "cell_type": "markdown",
      "source": [
        "# Step 6: Evaluate the Model"
      ],
      "metadata": {
        "id": "zzLkNN0Xkjoj"
      }
    },
    {
      "cell_type": "code",
      "source": [
        "evaluator = BinaryClassificationEvaluator(labelCol=\"isFraud\")\n",
        "train_predictions = lr_model.transform(train_data)\n",
        "test_predictions = lr_model.transform(test_data)\n",
        "\n",
        "train_auc = evaluator.evaluate(train_predictions)\n",
        "test_auc = evaluator.evaluate(test_predictions)\n",
        "\n",
        "print(\"AUC on training data: \", train_auc)\n",
        "print(\"AUC on test data: \", test_auc)\n"
      ],
      "metadata": {
        "colab": {
          "base_uri": "https://localhost:8080/"
        },
        "id": "2SjciVmPkne4",
        "outputId": "949b476f-5777-433b-d7c1-a1f569c81009"
      },
      "execution_count": 11,
      "outputs": [
        {
          "output_type": "stream",
          "name": "stdout",
          "text": [
            "AUC on training data:  0.9098020053442148\n",
            "AUC on test data:  0.9042580941425937\n"
          ]
        }
      ]
    },
    {
      "cell_type": "markdown",
      "source": [
        "# Step 7: Make Predictions"
      ],
      "metadata": {
        "id": "0CP_L9TnksuU"
      }
    },
    {
      "cell_type": "code",
      "source": [
        "predictions = lr_model.transform(test_data)\n",
        "predictions.select(\"features\", \"isFraud\", \"prediction\", \"probability\").show(5)"
      ],
      "metadata": {
        "colab": {
          "base_uri": "https://localhost:8080/"
        },
        "id": "7LyVbDuvkuMc",
        "outputId": "c4947fe9-7082-4b7e-ad36-be533914df67"
      },
      "execution_count": 14,
      "outputs": [
        {
          "output_type": "stream",
          "name": "stdout",
          "text": [
            "+--------------------+-------+----------+--------------------+\n",
            "|            features|isFraud|prediction|         probability|\n",
            "+--------------------+-------+----------+--------------------+\n",
            "|(9,[0,2,3,6],[15....|      0|       0.0|[0.99912162678636...|\n",
            "|[1.0,0.0,9536.54,...|      0|       0.0|[0.99948509858860...|\n",
            "|[1.0,0.0,14121.82...|      0|       0.0|[0.99934028496911...|\n",
            "|[1.0,0.0,29587.32...|      0|       0.0|[0.99987731667186...|\n",
            "|[1.0,0.0,68051.17...|      0|       0.0|[0.99990276013399...|\n",
            "+--------------------+-------+----------+--------------------+\n",
            "only showing top 5 rows\n",
            "\n"
          ]
        }
      ]
    },
    {
      "cell_type": "code",
      "source": [
        "from pyspark.ml.classification import LogisticRegressionModel\n",
        "import matplotlib.pyplot as plt\n",
        "import seaborn as sns\n",
        "from sklearn.metrics import roc_curve, precision_recall_curve, confusion_matrix, ConfusionMatrixDisplay\n"
      ],
      "metadata": {
        "id": "KOGA4JJyojbj"
      },
      "execution_count": 15,
      "outputs": []
    },
    {
      "cell_type": "markdown",
      "source": [
        "# Save the model"
      ],
      "metadata": {
        "id": "oUKpyM4xpRbe"
      }
    },
    {
      "cell_type": "code",
      "source": [
        "model_path = \"/content/drive/MyDrive/Model\"\n",
        "lr_model.write().overwrite().save(model_path)"
      ],
      "metadata": {
        "id": "7H4UdzyYpTtM"
      },
      "execution_count": 17,
      "outputs": []
    },
    {
      "cell_type": "markdown",
      "source": [
        "# Load the model"
      ],
      "metadata": {
        "id": "dhe7zk6IrKyo"
      }
    },
    {
      "cell_type": "code",
      "source": [
        "loaded_model = LogisticRegressionModel.load(model_path)\n"
      ],
      "metadata": {
        "id": "zjIWUE1ypcUv"
      },
      "execution_count": 18,
      "outputs": []
    },
    {
      "cell_type": "markdown",
      "source": [
        "# Evaluate the model"
      ],
      "metadata": {
        "id": "nJOuQUDcrpSA"
      }
    },
    {
      "cell_type": "code",
      "source": [
        "evaluator = BinaryClassificationEvaluator(labelCol=\"isFraud\")\n",
        "train_predictions = loaded_model.transform(train_data)\n",
        "test_predictions = loaded_model.transform(test_data)\n",
        "\n",
        "train_auc = evaluator.evaluate(train_predictions)\n",
        "test_auc = evaluator.evaluate(test_predictions)\n",
        "\n",
        "print(\"AUC on training data: \", train_auc)\n",
        "print(\"AUC on test data: \", test_auc)"
      ],
      "metadata": {
        "colab": {
          "base_uri": "https://localhost:8080/"
        },
        "id": "gbF8BbejrNE7",
        "outputId": "94a84ad3-00f2-481f-e917-9c5197192915"
      },
      "execution_count": 19,
      "outputs": [
        {
          "output_type": "stream",
          "name": "stdout",
          "text": [
            "AUC on training data:  0.9098016851579049\n",
            "AUC on test data:  0.90427380633485\n"
          ]
        }
      ]
    },
    {
      "cell_type": "markdown",
      "source": [
        "# Make predictions"
      ],
      "metadata": {
        "id": "VDVtC70mrqez"
      }
    },
    {
      "cell_type": "code",
      "source": [
        "predictions = loaded_model.transform(test_data)\n",
        "predictions.select(\"features\", \"isFraud\", \"prediction\", \"probability\").show(5)\n"
      ],
      "metadata": {
        "colab": {
          "base_uri": "https://localhost:8080/"
        },
        "id": "GA0BHbJnrken",
        "outputId": "24a9c0a2-f836-4b04-f082-85067f1b7c4c"
      },
      "execution_count": 20,
      "outputs": [
        {
          "output_type": "stream",
          "name": "stdout",
          "text": [
            "+--------------------+-------+----------+--------------------+\n",
            "|            features|isFraud|prediction|         probability|\n",
            "+--------------------+-------+----------+--------------------+\n",
            "|(9,[0,2,3,6],[15....|      0|       0.0|[0.99912162678636...|\n",
            "|[1.0,0.0,9536.54,...|      0|       0.0|[0.99948509858860...|\n",
            "|[1.0,0.0,14121.82...|      0|       0.0|[0.99934028496911...|\n",
            "|[1.0,0.0,29587.32...|      0|       0.0|[0.99987731667186...|\n",
            "|[1.0,0.0,68051.17...|      0|       0.0|[0.99990276013399...|\n",
            "+--------------------+-------+----------+--------------------+\n",
            "only showing top 5 rows\n",
            "\n"
          ]
        }
      ]
    },
    {
      "cell_type": "markdown",
      "source": [
        "# Visualization\n",
        "# ROC Curve"
      ],
      "metadata": {
        "id": "hO0TxiwWr9cF"
      }
    },
    {
      "cell_type": "code",
      "source": [
        "preds = predictions.select(\"isFraud\", \"probability\").collect()\n",
        "y_true = [int(row[\"isFraud\"]) for row in preds]\n",
        "y_scores = [row[\"probability\"][1] for row in preds]\n",
        "\n",
        "fpr, tpr, _ = roc_curve(y_true, y_scores)\n",
        "plt.figure(figsize=(8, 6))\n",
        "plt.plot(fpr, tpr, label='ROC Curve (AUC = {:.2f})'.format(test_auc))\n",
        "plt.plot([0, 1], [0, 1], 'k--', label='Random Guessing')\n",
        "plt.xlabel('False Positive Rate')\n",
        "plt.ylabel('True Positive Rate')\n",
        "plt.title('ROC Curve')\n",
        "plt.legend(loc='lower right')\n",
        "plt.show()"
      ],
      "metadata": {
        "colab": {
          "base_uri": "https://localhost:8080/",
          "height": 564
        },
        "id": "kRZJpB_BrqCL",
        "outputId": "a6f467a0-c37a-4dc1-abb6-cce33889a959"
      },
      "execution_count": 21,
      "outputs": [
        {
          "output_type": "display_data",
          "data": {
            "text/plain": [
              "<Figure size 800x600 with 1 Axes>"
            ],
            "image/png": "[encoded data removed]"
          },
          "metadata": {}
        }
      ]
    },
    {
      "cell_type": "markdown",
      "source": [
        "# Precision-Recall Curve"
      ],
      "metadata": {
        "id": "mA4BNXIbsDCk"
      }
    },
    {
      "cell_type": "code",
      "source": [
        "precision, recall, _ = precision_recall_curve(y_true, y_scores)\n",
        "plt.figure(figsize=(8, 6))\n",
        "plt.plot(recall, precision, label='Precision-Recall Curve')\n",
        "plt.xlabel('Recall')\n",
        "plt.ylabel('Precision')\n",
        "plt.title('Precision-Recall Curve')\n",
        "plt.legend(loc='lower left')\n",
        "plt.show()\n"
      ],
      "metadata": {
        "colab": {
          "base_uri": "https://localhost:8080/",
          "height": 564
        },
        "id": "YDsE9g65sA0T",
        "outputId": "90e6b9e9-f804-4366-9032-852d0a319c84"
      },
      "execution_count": 23,
      "outputs": [
        {
          "output_type": "display_data",
          "data": {
            "text/plain": [
              "<Figure size 800x600 with 1 Axes>"
            ],
            "image/png": "[encoded data removed]"
          },
          "metadata": {}
        }
      ]
    },
    {
      "cell_type": "markdown",
      "source": [
        "# Confusion Matrix"
      ],
      "metadata": {
        "id": "hJlEyelYsd_g"
      }
    },
    {
      "cell_type": "code",
      "source": [
        "predictions.printSchema()\n",
        "predictions.select(\"features\", \"isFraud\", \"prediction\", \"probability\").show(5)\n",
        "\n",
        "# Extract the predictions and labels\n",
        "preds = predictions.select(\"isFraud\", \"prediction\", \"probability\").collect()"
      ],
      "metadata": {
        "colab": {
          "base_uri": "https://localhost:8080/"
        },
        "id": "_sJsG2MjtDVh",
        "outputId": "b60e4aa9-e7b6-4650-bb6b-f9a3cb9c95bc"
      },
      "execution_count": 29,
      "outputs": [
        {
          "output_type": "stream",
          "name": "stdout",
          "text": [
            "root\n",
            " |-- features: vector (nullable = true)\n",
            " |-- isFraud: integer (nullable = true)\n",
            " |-- rawPrediction: vector (nullable = true)\n",
            " |-- probability: vector (nullable = true)\n",
            " |-- prediction: double (nullable = false)\n",
            "\n",
            "+--------------------+-------+----------+--------------------+\n",
            "|            features|isFraud|prediction|         probability|\n",
            "+--------------------+-------+----------+--------------------+\n",
            "|(9,[0,2,3,6],[15....|      0|       0.0|[0.99912162678636...|\n",
            "|[1.0,0.0,9536.54,...|      0|       0.0|[0.99948509858860...|\n",
            "|[1.0,0.0,14121.82...|      0|       0.0|[0.99934028496911...|\n",
            "|[1.0,0.0,29587.32...|      0|       0.0|[0.99987731667186...|\n",
            "|[1.0,0.0,68051.17...|      0|       0.0|[0.99990276013399...|\n",
            "+--------------------+-------+----------+--------------------+\n",
            "only showing top 5 rows\n",
            "\n"
          ]
        }
      ]
    },
    {
      "cell_type": "code",
      "source": [
        "if 'prediction' in predictions.columns:\n",
        "    y_true = [int(row[\"isFraud\"]) for row in preds]\n",
        "    y_pred = [int(row[\"prediction\"]) for row in preds]\n",
        "    y_scores = [row[\"probability\"][1] for row in preds]\n",
        "\n",
        "    # Confusion Matrix\n",
        "    cm = confusion_matrix(y_true, y_pred)\n",
        "    disp = ConfusionMatrixDisplay(confusion_matrix=cm)\n",
        "    disp.plot(cmap=plt.cm.Blues)\n",
        "    plt.title('Confusion Matrix')\n",
        "    plt.show()\n"
      ],
      "metadata": {
        "colab": {
          "base_uri": "https://localhost:8080/",
          "height": 472
        },
        "id": "oSxZe29YsZ3G",
        "outputId": "ac274326-df0f-42fd-f3e4-d2542bf9a28a"
      },
      "execution_count": 30,
      "outputs": [
        {
          "output_type": "display_data",
          "data": {
            "text/plain": [
              "<Figure size 640x480 with 2 Axes>"
            ],
            "image/png": "[encoded data removed]"
          },
          "metadata": {}
        }
      ]
    }
  ]
}